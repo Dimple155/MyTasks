{
  "nbformat": 4,
  "nbformat_minor": 0,
  "metadata": {
    "colab": {
      "provenance": [],
      "authorship_tag": "ABX9TyOTBm6C/ZM6MRXOCGizr4P2",
      "include_colab_link": true
    },
    "kernelspec": {
      "name": "python3",
      "display_name": "Python 3"
    },
    "language_info": {
      "name": "python"
    }
  },
  "cells": [
    {
      "cell_type": "markdown",
      "metadata": {
        "id": "view-in-github",
        "colab_type": "text"
      },
      "source": [
        "<a href=\"https://colab.research.google.com/github/Dimple155/MyTasks/blob/main/Bharat_Intern_Task1_Movie_Recommendation_System.ipynb\" target=\"_parent\"><img src=\"https://colab.research.google.com/assets/colab-badge.svg\" alt=\"Open In Colab\"/></a>"
      ]
    },
    {
      "cell_type": "code",
      "execution_count": 20,
      "metadata": {
        "colab": {
          "base_uri": "https://localhost:8080/"
        },
        "id": "t9XdSW6lbsXE",
        "outputId": "f6b96177-ed87-45cf-ff31-79c6376e1029"
      },
      "outputs": [
        {
          "output_type": "stream",
          "name": "stdout",
          "text": [
            "Requirement already satisfied: scikit-surprise in /usr/local/lib/python3.10/dist-packages (1.1.3)\n",
            "Requirement already satisfied: joblib>=1.0.0 in /usr/local/lib/python3.10/dist-packages (from scikit-surprise) (1.3.2)\n",
            "Requirement already satisfied: numpy>=1.17.3 in /usr/local/lib/python3.10/dist-packages (from scikit-surprise) (1.23.5)\n",
            "Requirement already satisfied: scipy>=1.3.2 in /usr/local/lib/python3.10/dist-packages (from scikit-surprise) (1.11.4)\n"
          ]
        }
      ],
      "source": [
        "!pip install scikit-surprise"
      ]
    },
    {
      "cell_type": "code",
      "source": [
        "#required libraries\n",
        "from surprise import Dataset, Reader\n",
        "from surprise.model_selection import train_test_split\n",
        "from surprise import KNNBasic\n",
        "from surprise import SVD\n",
        "from surprise import accuracy\n",
        "import pandas as pd"
      ],
      "metadata": {
        "id": "qwUpi36JmqYT"
      },
      "execution_count": 21,
      "outputs": []
    },
    {
      "cell_type": "code",
      "source": [
        "# Define the Reader\n",
        "reader = Reader(line_format='user item rating timestamp', sep='\\t')\n",
        "\n",
        "# Load the MovieLens dataset using the defined Reader\n",
        "data = Dataset.load_builtin('ml-100k')\n",
        "\n",
        "# Convert the Surprise dataset to a Pandas DataFrame\n",
        "df = pd.DataFrame(data.raw_ratings, columns=['user_id', 'item_id', 'rating', 'timestamp'])\n",
        "\n",
        "# Display the head of the DataFrame\n",
        "print(df.head())"
      ],
      "metadata": {
        "id": "KMze2o84m1pC",
        "colab": {
          "base_uri": "https://localhost:8080/"
        },
        "outputId": "53dbf08e-d621-46f7-9674-9de72fdd40ea"
      },
      "execution_count": 22,
      "outputs": [
        {
          "output_type": "stream",
          "name": "stdout",
          "text": [
            "  user_id item_id  rating  timestamp\n",
            "0     196     242     3.0  881250949\n",
            "1     186     302     3.0  891717742\n",
            "2      22     377     1.0  878887116\n",
            "3     244      51     2.0  880606923\n",
            "4     166     346     1.0  886397596\n"
          ]
        }
      ]
    },
    {
      "cell_type": "code",
      "source": [
        "# Split the dataset into training and testing sets\n",
        "trainset, testset = train_test_split(data, test_size=0.2)"
      ],
      "metadata": {
        "id": "0RLYbW0Zm-ES"
      },
      "execution_count": 23,
      "outputs": []
    },
    {
      "cell_type": "code",
      "source": [
        "from surprise import get_dataset_dir\n",
        "import os\n",
        "\n",
        "# Function to load movie titles\n",
        "def load_movie_titles():\n",
        "    file_path = os.path.join(get_dataset_dir(), 'ml-100k/ml-100k/u.item')\n",
        "    movie_titles = {}\n",
        "    with open(file_path, 'r', encoding='ISO-8859-1') as f:\n",
        "        for line in f:\n",
        "            parts = line.split('|')\n",
        "            movie_id = parts[0]\n",
        "            title = parts[1]\n",
        "            movie_titles[movie_id] = title\n",
        "    return movie_titles"
      ],
      "metadata": {
        "id": "IMqBXMLW4qhr"
      },
      "execution_count": 24,
      "outputs": []
    },
    {
      "cell_type": "code",
      "source": [
        "# Function to get top-N recommendations with movie titles\n",
        "def get_top_n_recommendations_with_titles(model, testset, movie_titles, user_id, n=5):\n",
        "    user_ratings = [item for item in testset if item[0] == user_id]\n",
        "    predictions = model.test(user_ratings)\n",
        "    top_n = sorted(predictions, key=lambda x: x.est, reverse=True)[:n]\n",
        "    top_n_with_titles = [(movie_titles[str(recommendation.iid)], recommendation.est) for recommendation in top_n]\n",
        "    return top_n_with_titles\n"
      ],
      "metadata": {
        "id": "c7eo9L4R4wyR"
      },
      "execution_count": 25,
      "outputs": []
    },
    {
      "cell_type": "code",
      "source": [
        "# Load movie titles\n",
        "movie_titles = load_movie_titles()\n",
        "\n",
        "# Choose a user for whom you want to get recommendations\n",
        "user_id_to_recommend = '1'#int(input(\"Enter User ID:\"))"
      ],
      "metadata": {
        "id": "55IGXVpu40M5"
      },
      "execution_count": 26,
      "outputs": []
    },
    {
      "cell_type": "code",
      "source": [
        "# Collaborative Filtering with kNN\n",
        "sim_options = {'name': 'cosine', 'user_based': True}\n",
        "knn_model = KNNBasic(sim_options=sim_options)\n",
        "knn_model.fit(trainset)\n",
        "knn_predictions = knn_model.test(testset)\n",
        "knn_rmse = accuracy.rmse(knn_predictions)\n",
        "print(f'kNN RMSE: {knn_rmse}')"
      ],
      "metadata": {
        "id": "G_GnZxRynOf6",
        "colab": {
          "base_uri": "https://localhost:8080/"
        },
        "outputId": "f4de1984-8c27-4864-dc9b-0023de61c1b4"
      },
      "execution_count": 27,
      "outputs": [
        {
          "output_type": "stream",
          "name": "stdout",
          "text": [
            "Computing the cosine similarity matrix...\n",
            "Done computing similarity matrix.\n",
            "RMSE: 1.0172\n",
            "kNN RMSE: 1.0171617833582838\n"
          ]
        }
      ]
    },
    {
      "cell_type": "code",
      "source": [
        "# Get top-N recommendations for the chosen user using kNN model\n",
        "knn_top_n_recommendations = get_top_n_recommendations_with_titles(knn_model, testset, movie_titles, user_id_to_recommend)\n",
        "\n",
        "# Print recommendations with movie titles\n",
        "print(f'Top-5 Recommendations for User {user_id_to_recommend} using kNN:')\n",
        "for title, estimated_rating in knn_top_n_recommendations:\n",
        "    print(f'Movie Title: {title}, Estimated Rating: {estimated_rating}')\n"
      ],
      "metadata": {
        "id": "br8xyd2znQXC",
        "colab": {
          "base_uri": "https://localhost:8080/"
        },
        "outputId": "3128f77f-7182-4dca-d20e-04d292e00870"
      },
      "execution_count": 28,
      "outputs": [
        {
          "output_type": "stream",
          "name": "stdout",
          "text": [
            "Top-5 Recommendations for User 1 using kNN:\n",
            "Movie Title: Cinema Paradiso (1988), Estimated Rating: 4.526774715351243\n",
            "Movie Title: Taxi Driver (1976), Estimated Rating: 4.448622922785968\n",
            "Movie Title: Room with a View, A (1986), Estimated Rating: 4.299695585181687\n",
            "Movie Title: Graduate, The (1967), Estimated Rating: 4.251122227579801\n",
            "Movie Title: Mr. Smith Goes to Washington (1939), Estimated Rating: 4.224858250118751\n"
          ]
        }
      ]
    },
    {
      "cell_type": "code",
      "source": [
        "# Collaborative Filtering with SVD\n",
        "svd_model = SVD()\n",
        "svd_model.fit(trainset)\n",
        "svd_predictions = svd_model.test(testset)\n",
        "svd_rmse = accuracy.rmse(svd_predictions)\n",
        "print(f'SVD RMSE: {svd_rmse}')"
      ],
      "metadata": {
        "colab": {
          "base_uri": "https://localhost:8080/"
        },
        "id": "BT2FghaG5ULB",
        "outputId": "441f0e3d-7592-4468-dc5e-7e70c00cbf4b"
      },
      "execution_count": 29,
      "outputs": [
        {
          "output_type": "stream",
          "name": "stdout",
          "text": [
            "RMSE: 0.9432\n",
            "SVD RMSE: 0.9432233724171681\n"
          ]
        }
      ]
    },
    {
      "cell_type": "code",
      "source": [
        "# Get top-N recommendations for the chosen user using SVD model\n",
        "svd_top_n_recommendations = get_top_n_recommendations_with_titles(svd_model, testset, movie_titles, user_id_to_recommend)\n",
        "\n",
        "# Print recommendations with movie titles\n",
        "print(f'\\nTop-5 Recommendations for User {user_id_to_recommend} using SVD:')\n",
        "for title, estimated_rating in svd_top_n_recommendations:\n",
        "    print(f'Movie Title: {title}, Estimated Rating: {estimated_rating}')"
      ],
      "metadata": {
        "colab": {
          "base_uri": "https://localhost:8080/"
        },
        "id": "0wNBIp-m5USv",
        "outputId": "fbef88e7-d8a4-4d6f-9760-33b7a2b1e223"
      },
      "execution_count": 30,
      "outputs": [
        {
          "output_type": "stream",
          "name": "stdout",
          "text": [
            "\n",
            "Top-5 Recommendations for User 1 using SVD:\n",
            "Movie Title: Cinema Paradiso (1988), Estimated Rating: 4.4598245662031015\n",
            "Movie Title: Belle de jour (1967), Estimated Rating: 4.364476245813141\n",
            "Movie Title: Clerks (1994), Estimated Rating: 4.289420631041578\n",
            "Movie Title: Mr. Smith Goes to Washington (1939), Estimated Rating: 4.24068634192067\n",
            "Movie Title: Alien (1979), Estimated Rating: 4.1972717467370515\n"
          ]
        }
      ]
    },
    {
      "cell_type": "code",
      "source": [],
      "metadata": {
        "id": "bUn6YGS85Uhh"
      },
      "execution_count": null,
      "outputs": []
    }
  ]
}